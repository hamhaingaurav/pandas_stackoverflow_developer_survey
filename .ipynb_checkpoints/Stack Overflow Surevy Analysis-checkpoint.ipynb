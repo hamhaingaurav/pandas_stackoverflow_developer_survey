{
 "cells": [
  {
   "cell_type": "code",
   "execution_count": null,
   "metadata": {},
   "outputs": [],
   "source": [
    "import pandas as pd\n",
    "import numpy as np"
   ]
  },
  {
   "cell_type": "markdown",
   "metadata": {},
   "source": [
    "## to create a dataframe using python dictionaries"
   ]
  },
  {
   "cell_type": "code",
   "execution_count": null,
   "metadata": {},
   "outputs": [],
   "source": [
    "actors = {\n",
    "        'Name':['Samuel L. Jackson','Will Smith','Denzel Washington','Morgan Freeman'],\n",
    "        'Age':[71,51,65,83],\n",
    "    }\n",
    "actors_df = pd.DataFrame(actors,index=['a','b','c','d'])\n",
    "actors_df\n",
    "# type(actors_df)"
   ]
  },
  {
   "cell_type": "markdown",
   "metadata": {},
   "source": [
    "## to create a series using python lists"
   ]
  },
  {
   "cell_type": "code",
   "execution_count": null,
   "metadata": {},
   "outputs": [],
   "source": [
    "actors_series = pd.Series(['Samuel L. Jackson','Will Smith','Denzel Washington','Morgan Freeman'])\n",
    "actors_series\n",
    "type(actors_series)"
   ]
  },
  {
   "cell_type": "markdown",
   "metadata": {},
   "source": [
    "## pd.read_csv() to read the csv file, We also have pd.read_sql(), pd.read_excel(), pd.read_html(), pd.read_json() and much more"
   ]
  },
  {
   "cell_type": "code",
   "execution_count": null,
   "metadata": {},
   "outputs": [],
   "source": [
    "df = pd.read_csv(\"developer_survey_2019/survey_results_public.csv\")\n",
    "schema_df = pd.read_csv(\"developer_survey_2019/survey_results_schema.csv\")"
   ]
  },
  {
   "cell_type": "code",
   "execution_count": null,
   "metadata": {},
   "outputs": [],
   "source": [
    "# df\n",
    "# schema_df"
   ]
  },
  {
   "cell_type": "markdown",
   "metadata": {},
   "source": [
    "## Total Number of Rows and Columns Respectively"
   ]
  },
  {
   "cell_type": "code",
   "execution_count": null,
   "metadata": {},
   "outputs": [],
   "source": [
    "print(\"(Rows, Columns) =\",df.shape)\n",
    "print(\"(Rows, Columns) =\",schema_df.shape)"
   ]
  },
  {
   "cell_type": "markdown",
   "metadata": {},
   "source": [
    "## Get more information about Dataset"
   ]
  },
  {
   "cell_type": "code",
   "execution_count": null,
   "metadata": {},
   "outputs": [],
   "source": [
    "print(df.info())\n",
    "# In pandas, Object represets string most of the time"
   ]
  },
  {
   "cell_type": "markdown",
   "metadata": {},
   "source": [
    "## To show all the columns of a dataset at once"
   ]
  },
  {
   "cell_type": "code",
   "execution_count": null,
   "metadata": {},
   "outputs": [],
   "source": [
    "pd.set_option('display.max_columns',85)\n",
    "pd.set_option('display.max_rows',85)\n",
    "# df"
   ]
  },
  {
   "cell_type": "markdown",
   "metadata": {},
   "source": [
    "## Number of columns and its names"
   ]
  },
  {
   "cell_type": "code",
   "execution_count": null,
   "metadata": {},
   "outputs": [],
   "source": [
    "cols = df.columns\n",
    "n_cols = len(df.columns)\n",
    "print(\"Total Columns: \",n_cols)\n",
    "print(\"Column Names: \",cols)"
   ]
  },
  {
   "cell_type": "markdown",
   "metadata": {},
   "source": [
    "## Show the top 5 rows of dataset\n"
   ]
  },
  {
   "cell_type": "code",
   "execution_count": null,
   "metadata": {},
   "outputs": [],
   "source": [
    "df.head()  \n",
    "\n",
    "# You can also pass some number inside head to show given number of rows\n",
    "# df.head(10)"
   ]
  },
  {
   "cell_type": "markdown",
   "metadata": {},
   "source": [
    "## Show the bottom 5 rows of dataset\n"
   ]
  },
  {
   "cell_type": "code",
   "execution_count": null,
   "metadata": {},
   "outputs": [],
   "source": [
    "df.tail()\n",
    "\n",
    "# You can also pass some number inside tail to show given number of rows\n",
    "# df.tail(10)"
   ]
  },
  {
   "cell_type": "markdown",
   "metadata": {},
   "source": [
    "## Select a Specific Column by three ways\n"
   ]
  },
  {
   "cell_type": "code",
   "execution_count": null,
   "metadata": {},
   "outputs": [],
   "source": [
    "respondent = df.Respondent\n",
    "respondent_ = df['Respondent']\n",
    "respondent__ = df.loc[:,'Respondent']\n",
    "print(\"First Result: \\n\",respondent)\n",
    "print(\"\\nSecond Result: \\n\",respondent_)\n",
    "print(\"\\nThird Result: \\n\",respondent__)"
   ]
  },
  {
   "cell_type": "markdown",
   "metadata": {},
   "source": [
    "## Select Multiple Columns or Specific Columns\n"
   ]
  },
  {
   "cell_type": "code",
   "execution_count": null,
   "metadata": {},
   "outputs": [],
   "source": [
    "# df[['Respondent','EdLevel','Student','Country',...................]]\n",
    "df[['Respondent','EdLevel','Student','Country']]"
   ]
  },
  {
   "cell_type": "markdown",
   "metadata": {},
   "source": [
    "## loc vs iloc(it only uses integers)\n"
   ]
  },
  {
   "cell_type": "code",
   "execution_count": null,
   "metadata": {},
   "outputs": [],
   "source": [
    "# iloc\n",
    "df.iloc[0]  # First Row\n",
    "df.iloc[[0,1,2]] # First, Second and Third rows of df\n",
    "df.iloc[[0,1,2],0] # First, Second and Third rows with First column of df\n",
    "df.iloc[[0,1,2],[0,1,2,84]] # First, Second and Third rows with first,second,third and 85th column of df\n",
    "df.iloc[:3,:19] # row 1st to row 3rd with all columns till 19th column including 19th column of df\n",
    "df.iloc[[0,1,2],:19] # First, Second and Third rows with all columns till 19th column including 19th column of df"
   ]
  },
  {
   "cell_type": "code",
   "execution_count": null,
   "metadata": {},
   "outputs": [],
   "source": [
    "# loc\n",
    "# Note: slicing in loc is always inclusive, it does not follow pyhton slicing rule.\n",
    "df.loc[0]  # First Row (We are putting 0 because we have an index with 0)\n",
    "df.loc[[0,1,2]] # First, Second and Third rows of df\n",
    "df.loc[[0,1,2],'Respondent'] # First, Second and Third rows with First column of df\n",
    "df.loc[[0,1,2],['Respondent','MainBranch','Hobbyist','SurveyEase']] # First, Second and Third rows with first,second,third and 85th column of df\n",
    "df.loc[:2,'Respondent'] # row 1st to row 3rd with Respondent column of df\n",
    "df.loc[[0,1,2],['Respondent','MainBranch','Hobbyist', 'SurveyEase']] # First, Second and Third rows with 'Respondent','MainBranch','Hobbyist','SurveyEase' columns of df\n",
    "df.loc[:2,'MainBranch':'Student'] # First, Second and Third rows with columns from MainBranch to Student of df"
   ]
  },
  {
   "cell_type": "markdown",
   "metadata": {},
   "source": [
    "## Indexes"
   ]
  },
  {
   "cell_type": "code",
   "execution_count": null,
   "metadata": {},
   "outputs": [],
   "source": [
    "df.index\n",
    "\n",
    "# to change the index to another column, we can use set_index() method\n",
    "df.set_index('Respondent') \n",
    "# set_index() will return the df with new index, it will not change the df until we pass the arguement inplace=True.\n",
    "df.set_index('Respondent',inplace=True)"
   ]
  },
  {
   "cell_type": "code",
   "execution_count": null,
   "metadata": {},
   "outputs": [],
   "source": [
    "# to reset the index we can use reset_index() with or without reset_index(inplace=True)\n",
    "df.reset_index()\n",
    "# or\n",
    "df.reset_index(inplace=True)"
   ]
  },
  {
   "cell_type": "code",
   "execution_count": null,
   "metadata": {},
   "outputs": [],
   "source": [
    "# to sort index we can use sort_index() with or without inplace=True\n",
    "new_df = df.loc[:10,['Respondent','MainBranch','Hobbyist', 'SurveyEase']]\n",
    "new_df_ = new_df.set_index('MainBranch')\n",
    "new_df_sorted = new_df_.sort_index()\n",
    "new_df_sorted # alphabetically sorted df"
   ]
  },
  {
   "cell_type": "markdown",
   "metadata": {},
   "source": [
    "## Filtering the Data using conditionals and some inbuilt functions"
   ]
  },
  {
   "cell_type": "code",
   "execution_count": null,
   "metadata": {},
   "outputs": [],
   "source": [
    "filter_1 = (df['Hobbyist'] == 'No')"
   ]
  },
  {
   "cell_type": "code",
   "execution_count": null,
   "metadata": {},
   "outputs": [],
   "source": [
    "df[filter_1]"
   ]
  },
  {
   "cell_type": "code",
   "execution_count": null,
   "metadata": {},
   "outputs": [],
   "source": [
    "filter_2 = (df['Country']=='India') & (df['Student']=='No')"
   ]
  },
  {
   "cell_type": "code",
   "execution_count": null,
   "metadata": {},
   "outputs": [],
   "source": [
    "df[filter_2]"
   ]
  },
  {
   "cell_type": "code",
   "execution_count": null,
   "metadata": {},
   "outputs": [],
   "source": [
    "filter_3 = (df['Country']=='India') | (df['Country']=='Canada')"
   ]
  },
  {
   "cell_type": "code",
   "execution_count": null,
   "metadata": {},
   "outputs": [],
   "source": [
    "df[filter_3]"
   ]
  },
  {
   "cell_type": "code",
   "execution_count": null,
   "metadata": {
    "scrolled": true
   },
   "outputs": [],
   "source": [
    "df[~filter_3]   # < ~ > symbol is used to reverse the out put, it is very similar to python not keyword"
   ]
  },
  {
   "cell_type": "code",
   "execution_count": null,
   "metadata": {},
   "outputs": [],
   "source": [
    "high_salary_filter = (df['ConvertedComp'] > 100000) & (df['Country']=='India')"
   ]
  },
  {
   "cell_type": "code",
   "execution_count": null,
   "metadata": {},
   "outputs": [],
   "source": [
    "df.loc[high_salary_filter,['Respondent','OpenSourcer','Student','EdLevel','DevType','YearsCodePro']].set_index('Respondent')"
   ]
  },
  {
   "cell_type": "code",
   "execution_count": null,
   "metadata": {},
   "outputs": [],
   "source": [
    "# isin() function to filter using lists\n",
    "high_salary_df = df.loc[high_salary_filter,['Respondent','Country','OpenSourcer','Student','EdLevel','DevType','YearsCodePro']].set_index('Respondent')\n",
    "high_salary_with_specific_country_filter = high_salary_df['Country'].isin(['India','United States','Canada'])"
   ]
  },
  {
   "cell_type": "code",
   "execution_count": null,
   "metadata": {
    "scrolled": true
   },
   "outputs": [],
   "source": [
    "high_salary_df[high_salary_with_specific_country_filter]"
   ]
  },
  {
   "cell_type": "code",
   "execution_count": null,
   "metadata": {},
   "outputs": [],
   "source": [
    "# Now we are going to find out whome of them actually worked with Python\n",
    "\n",
    "python_filter = df['LanguageWorkedWith'].str.contains('Python',na=False) # we have put na=False to avoind na values"
   ]
  },
  {
   "cell_type": "code",
   "execution_count": null,
   "metadata": {},
   "outputs": [],
   "source": [
    "df.loc[python_filter,['Respondent','Country','Student','LanguageWorkedWith']]"
   ]
  },
  {
   "cell_type": "markdown",
   "metadata": {},
   "source": [
    "## Modifying Rows and Columns in Dataframe"
   ]
  },
  {
   "cell_type": "code",
   "execution_count": null,
   "metadata": {},
   "outputs": [],
   "source": [
    "# to make all the column names to lower case\n",
    "df.columns = [x.lower() for x in df.columns]"
   ]
  },
  {
   "cell_type": "code",
   "execution_count": null,
   "metadata": {},
   "outputs": [],
   "source": [
    "# to make all the column names to upper case\n",
    "df.columns = [x.upper() for x in df.columns]"
   ]
  },
  {
   "cell_type": "code",
   "execution_count": null,
   "metadata": {
    "scrolled": true
   },
   "outputs": [],
   "source": [
    "# to rename the column names with df.rename() method\n",
    "df.rename(columns={'Respondent':'Res'}) # to make this change permanent we can pass inplace=True in rename method"
   ]
  },
  {
   "cell_type": "code",
   "execution_count": null,
   "metadata": {},
   "outputs": [],
   "source": [
    "# to replace some values of a row or column we can use df.at() method, we can also use .loc but at if prefered method\n",
    "df.loc[0,'Respondent'] = 1\n",
    "df.at[0,'Respondent'] = 1"
   ]
  },
  {
   "cell_type": "markdown",
   "metadata": {},
   "source": [
    "## apply, map, applymap, replace methods"
   ]
  },
  {
   "cell_type": "code",
   "execution_count": null,
   "metadata": {},
   "outputs": [],
   "source": [
    "# .apply() works on both df and series,this function is used to -\n",
    "# apply a function into each series of a dataframe and \n",
    "# apply a function into each element of a series \n",
    "\n",
    "def db_names(row):\n",
    "    db_list = str(row).split(';')\n",
    "    return db_list"
   ]
  },
  {
   "cell_type": "code",
   "execution_count": null,
   "metadata": {},
   "outputs": [],
   "source": [
    "# convert the string of databses seperated with ; ,to a list\n",
    "df['DatabaseWorkedWith'] = df['DatabaseWorkedWith'].apply(db_names)\n",
    "df['DatabaseWorkedWith']"
   ]
  },
  {
   "cell_type": "code",
   "execution_count": null,
   "metadata": {},
   "outputs": [],
   "source": [
    "# above thing using lambda function\n",
    "df['DatabaseWorkedWith'] = df['DatabaseWorkedWith'].apply(lambda s: str(s).split(';'))\n",
    "df['DatabaseWorkedWith']"
   ]
  },
  {
   "cell_type": "code",
   "execution_count": null,
   "metadata": {},
   "outputs": [],
   "source": [
    "# applymap() function is used to apply a function to every element of a df, it only works on df\n",
    "df.applymap(lambda x: len(str(x)))"
   ]
  },
  {
   "cell_type": "code",
   "execution_count": null,
   "metadata": {},
   "outputs": [],
   "source": [
    "# map() method is used to map new values to old values\n",
    "# map() and replace() are very similar method except that map() sets the NaN where mapping is not provided\n",
    "df['Hobbyist'].map({'Yes':'No'})"
   ]
  },
  {
   "cell_type": "code",
   "execution_count": null,
   "metadata": {},
   "outputs": [],
   "source": [
    "# it just changes the values which we told it to change.\n",
    "df['Hobbyist'].replace({'Yes':'No'})"
   ]
  },
  {
   "cell_type": "markdown",
   "metadata": {},
   "source": [
    "## Add/Remove columns and rows"
   ]
  },
  {
   "cell_type": "code",
   "execution_count": null,
   "metadata": {},
   "outputs": [],
   "source": [
    "# to add columns and assign it to a new column\n",
    "df['HobbyistRespondent'] = df['Hobbyist'] + ' ' + df['Respondent'].apply(str)"
   ]
  },
  {
   "cell_type": "code",
   "execution_count": null,
   "metadata": {},
   "outputs": [],
   "source": [
    "# to remove a column we can use the drop method on df\n",
    "df.drop(columns=['HobbyistRespondent'],inplace=True)"
   ]
  },
  {
   "cell_type": "code",
   "execution_count": null,
   "metadata": {},
   "outputs": [],
   "source": [
    "# to expand the value of a column using str.split(expand=True)\n",
    "df['WebFrameWorkedWith'].str.split(';',expand=True)"
   ]
  },
  {
   "cell_type": "code",
   "execution_count": null,
   "metadata": {},
   "outputs": [],
   "source": [
    "# to add a new row in the df\n",
    "df.append({'Country':'Los Santos'},ignore_index=True)"
   ]
  },
  {
   "cell_type": "code",
   "execution_count": null,
   "metadata": {
    "scrolled": true
   },
   "outputs": [],
   "source": [
    "# to remove a row in the df\n",
    "df.drop(index=0,inplace=True)"
   ]
  },
  {
   "cell_type": "markdown",
   "metadata": {},
   "source": [
    "## combine two dataframes using append function"
   ]
  },
  {
   "cell_type": "code",
   "execution_count": null,
   "metadata": {},
   "outputs": [],
   "source": [
    "d1 = {\n",
    "        'Name':['Samuel L. Jackson','Will Smith'],\n",
    "        'Age':[71,51],\n",
    "    }\n",
    "\n",
    "d2 = {\n",
    "        'Name':['Denzel Washington','Morgan Freeman'],\n",
    "        'Age':[65,83],\n",
    "    }\n",
    "\n",
    "df1 = pd.DataFrame(d1)\n",
    "df2 = pd.DataFrame(d2)"
   ]
  },
  {
   "cell_type": "code",
   "execution_count": null,
   "metadata": {},
   "outputs": [],
   "source": [
    "df1.append(df2,ignore_index=True) #ignore_index=True to avoid the repetition of index"
   ]
  },
  {
   "cell_type": "markdown",
   "metadata": {},
   "source": [
    "## Sorting"
   ]
  },
  {
   "cell_type": "code",
   "execution_count": null,
   "metadata": {
    "scrolled": true
   },
   "outputs": [],
   "source": [
    "# sort by a single column\n",
    "df.sort_values(by='Country',ascending=False)"
   ]
  },
  {
   "cell_type": "code",
   "execution_count": null,
   "metadata": {},
   "outputs": [],
   "source": [
    "# sort by multiple columns\n",
    "df.sort_values(by=['Hobbyist','Country','Respondent'],ascending=False)"
   ]
  },
  {
   "cell_type": "code",
   "execution_count": null,
   "metadata": {},
   "outputs": [],
   "source": [
    "# sort by one column to be ascending but another to be descending columns\n",
    "df.sort_values(by=['Hobbyist','Country','Respondent'],ascending=[False,False,True])"
   ]
  },
  {
   "cell_type": "code",
   "execution_count": null,
   "metadata": {},
   "outputs": [],
   "source": [
    "# to sort the index\n",
    "df.sort_index(ascending=False)"
   ]
  },
  {
   "cell_type": "code",
   "execution_count": null,
   "metadata": {},
   "outputs": [],
   "source": [
    "# we can also sort the series using sort_values() method\n",
    "df['Hobbyist'].sort_values(ascending=False)"
   ]
  },
  {
   "cell_type": "code",
   "execution_count": null,
   "metadata": {},
   "outputs": [],
   "source": [
    "# sort values using multiple columns\n",
    "df.sort_values(by=['Country','ConvertedComp'],ascending=[True,False],inplace=True)"
   ]
  },
  {
   "cell_type": "code",
   "execution_count": null,
   "metadata": {},
   "outputs": [],
   "source": [
    "# getting the max values of salaries based on the country as index\n",
    "df[['Country','ConvertedComp']].groupby(['Country']).max()"
   ]
  },
  {
   "cell_type": "code",
   "execution_count": null,
   "metadata": {},
   "outputs": [],
   "source": [
    "# nlargest method to get top n largest values of a dataframe or seies\n",
    "df[['Country','ConvertedComp']].nlargest(10,columns=['ConvertedComp'])"
   ]
  },
  {
   "cell_type": "code",
   "execution_count": null,
   "metadata": {},
   "outputs": [],
   "source": [
    "# nsmallest method to get top n smallest values of a dataframe or seies\n",
    "df[['Country','ConvertedComp']].nsmallest(10,columns=['ConvertedComp'])"
   ]
  },
  {
   "cell_type": "code",
   "execution_count": null,
   "metadata": {},
   "outputs": [],
   "source": [
    "# filter the result who have salary greater than 1\n",
    "df[['Country','ConvertedComp']].loc[df['ConvertedComp']>1].nsmallest(10,columns=['ConvertedComp'])"
   ]
  }
 ],
 "metadata": {
  "kernelspec": {
   "display_name": "Python 3",
   "language": "python",
   "name": "python3"
  },
  "language_info": {
   "codemirror_mode": {
    "name": "ipython",
    "version": 3
   },
   "file_extension": ".py",
   "mimetype": "text/x-python",
   "name": "python",
   "nbconvert_exporter": "python",
   "pygments_lexer": "ipython3",
   "version": "3.8.4"
  }
 },
 "nbformat": 4,
 "nbformat_minor": 4
}
